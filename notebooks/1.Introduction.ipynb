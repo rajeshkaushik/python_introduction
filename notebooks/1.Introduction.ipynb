{
 "cells": [
  {
   "cell_type": "markdown",
   "metadata": {},
   "source": [
    "# Python\n",
    "- Absolutely nothing to do with the snake!\n",
    "- It was named after this comedy group called Monty Python (similar to Comedy nights with Kapil).\n",
    "- The creator of python ** Guido van Rossum ** is a big fan of Monty Python's Flying Circus.\n",
    "\n",
    "**Python is an interpreted high-level programming language for general-purpose programming.**\n",
    "## Python Features\n",
    "### High-level\n",
    "### Interpreted\n",
    "### Portable\n",
    "### Extendable\n",
    "### Interactive\n",
    "### General purpose\n",
    "### Dynamically typed\n",
    "### Strongly Typed\n",
    "### Object-Oriented\n",
    "### Easy-to-learn/read/maintain"
   ]
  },
  {
   "cell_type": "markdown",
   "metadata": {},
   "source": [
    " ## Why should I learn Python\n",
    " - **Ease of learning**\n",
    " - It Runs on Any Platform\n",
    " - It’s a Great General-Purpose Language\n",
    " - Python Has a Healthy, Active and Supportive Community.\n",
    " - Python Has Some Great Corporate Sponsors\n",
    " - Python Has Big Data\n",
    " - Python Has Libraries\n",
    " - Python Is Reliable and Efficient\n",
    " - **High Salaries**"
   ]
  },
  {
   "cell_type": "markdown",
   "metadata": {},
   "source": [
    "## Python design philosophy\n",
    "- Emphasises code readability\n",
    "- Concise implementation of logic with fewer lines of code.\n",
    "- *Tim Peters* attempted to capture unstated design principles of python in what he calls the “Zen of Python.”"
   ]
  },
  {
   "cell_type": "code",
   "execution_count": 1,
   "metadata": {},
   "outputs": [
    {
     "name": "stdout",
     "output_type": "stream",
     "text": [
      "The Zen of Python, by Tim Peters\n",
      "\n",
      "Beautiful is better than ugly.\n",
      "Explicit is better than implicit.\n",
      "Simple is better than complex.\n",
      "Complex is better than complicated.\n",
      "Flat is better than nested.\n",
      "Sparse is better than dense.\n",
      "Readability counts.\n",
      "Special cases aren't special enough to break the rules.\n",
      "Although practicality beats purity.\n",
      "Errors should never pass silently.\n",
      "Unless explicitly silenced.\n",
      "In the face of ambiguity, refuse the temptation to guess.\n",
      "There should be one-- and preferably only one --obvious way to do it.\n",
      "Although that way may not be obvious at first unless you're Dutch.\n",
      "Now is better than never.\n",
      "Although never is often better than *right* now.\n",
      "If the implementation is hard to explain, it's a bad idea.\n",
      "If the implementation is easy to explain, it may be a good idea.\n",
      "Namespaces are one honking great idea -- let's do more of those!\n"
     ]
    }
   ],
   "source": [
    "import this"
   ]
  },
  {
   "cell_type": "markdown",
   "metadata": {},
   "source": [
    "## Installing Python\n",
    "Python is installed in all latest unix/linux operating systems including Ubuntu, Fedora, openSUSE, Mac etc. For Windows installation, please visit https://www.python.org/downloads/"
   ]
  },
  {
   "cell_type": "markdown",
   "metadata": {},
   "source": [
    "## Running Python\n",
    "We will be using python 3.6 in this tutorial. There are three different ways to start Python −\n",
    "#### Invoking the Interpreter\n",
    "When commands are read from a tty, the interpreter is said to be in interactive mode. In this mode it prompts for the next command with the primary prompt, usually three greater-than signs (>>>); for continuation lines it prompts with the secondary prompt, by default three dots (...). The interpreter prints a welcome message stating its version number and a copyright notice before printing the first prompt:"
   ]
  },
  {
   "cell_type": "code",
   "execution_count": null,
   "metadata": {},
   "outputs": [],
   "source": [
    "!python3.6"
   ]
  },
  {
   "cell_type": "markdown",
   "metadata": {},
   "source": [
    " *For above command to work in terminal, it's assumed that python3.6 is already installed and available on sys path.*"
   ]
  },
  {
   "cell_type": "markdown",
   "metadata": {},
   "source": [
    "#### Script from the Command-line\n",
    "A Python script can be executed at command line by invoking the interpreter on your application, as in the following −"
   ]
  },
  {
   "cell_type": "code",
   "execution_count": null,
   "metadata": {
    "scrolled": true
   },
   "outputs": [],
   "source": [
    "!python script.py # Unix/Linux"
   ]
  },
  {
   "cell_type": "markdown",
   "metadata": {},
   "source": [
    "You can add #!/usr/bin/python3.6 as first line in the script and make it executable with"
   ]
  },
  {
   "cell_type": "code",
   "execution_count": null,
   "metadata": {},
   "outputs": [],
   "source": [
    "!chmod +x script.py"
   ]
  },
  {
   "cell_type": "markdown",
   "metadata": {},
   "source": [
    "Now you can run script from terminal as"
   ]
  },
  {
   "cell_type": "code",
   "execution_count": null,
   "metadata": {},
   "outputs": [],
   "source": [
    "!./script.py"
   ]
  },
  {
   "cell_type": "markdown",
   "metadata": {},
   "source": [
    "#### Integrated Development Environment\n",
    "You can run Python from a Graphical User Interface (GUI) environment as well, if you have a GUI application on your system that supports Python. Some of commonly used python IDEs are:\n",
    "- Sublime Text\n",
    "- PyCharm\n",
    "- Eclipse + PyDev\n",
    "- Atom\n",
    "- Vim"
   ]
  },
  {
   "cell_type": "markdown",
   "metadata": {},
   "source": [
    "## Just for Fun\n",
    "#### Using Python as a Calculator"
   ]
  },
  {
   "cell_type": "code",
   "execution_count": null,
   "metadata": {},
   "outputs": [],
   "source": [
    "100*2"
   ]
  }
 ],
 "metadata": {
  "kernelspec": {
   "display_name": "Python 3",
   "language": "python",
   "name": "python3"
  },
  "language_info": {
   "codemirror_mode": {
    "name": "ipython",
    "version": 3
   },
   "file_extension": ".py",
   "mimetype": "text/x-python",
   "name": "python",
   "nbconvert_exporter": "python",
   "pygments_lexer": "ipython3",
   "version": "3.6.5"
  }
 },
 "nbformat": 4,
 "nbformat_minor": 2
}
