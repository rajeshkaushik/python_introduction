{
 "cells": [
  {
   "cell_type": "markdown",
   "metadata": {},
   "source": [
    "# File Handling\n",
    "\n",
    "- Before you can read or write a file, you have to open it using Python's built-in **open()** function.\n",
    "- Once a file is opened and you have one file object, you can get various information related to that file.\n",
    "- The **close()** method of a file object flushes any unwritten information and closes the file object, after which no more operations can be done."
   ]
  },
  {
   "cell_type": "code",
   "execution_count": null,
   "metadata": {},
   "outputs": [],
   "source": [
    "fo = open(\"foo.txt\", \"wb\")"
   ]
  },
  {
   "cell_type": "code",
   "execution_count": null,
   "metadata": {},
   "outputs": [],
   "source": [
    "print (\"Name of the file: \", fo.name)\n",
    "print (\"Closed or not : \", fo.closed)\n",
    "print (\"Opening mode : \", fo.mode)"
   ]
  },
  {
   "cell_type": "code",
   "execution_count": null,
   "metadata": {},
   "outputs": [],
   "source": [
    "dir(fo)"
   ]
  },
  {
   "cell_type": "code",
   "execution_count": null,
   "metadata": {},
   "outputs": [],
   "source": [
    "fo.close()"
   ]
  },
  {
   "cell_type": "code",
   "execution_count": null,
   "metadata": {},
   "outputs": [],
   "source": [
    "fo = open(\"foo.txt\", \"w\")\n",
    "fo.write( \"Python is a great language.\\nYeah its great!!\\n\")\n",
    "fo.close()"
   ]
  },
  {
   "cell_type": "code",
   "execution_count": null,
   "metadata": {},
   "outputs": [],
   "source": [
    "fo = open(\"foo.txt\", \"r+\")\n",
    "print(fo.read(10))"
   ]
  },
  {
   "cell_type": "code",
   "execution_count": null,
   "metadata": {},
   "outputs": [],
   "source": [
    "print(fo.read(10))"
   ]
  },
  {
   "cell_type": "code",
   "execution_count": null,
   "metadata": {},
   "outputs": [],
   "source": [
    "fo.seek(0)"
   ]
  },
  {
   "cell_type": "code",
   "execution_count": null,
   "metadata": {},
   "outputs": [],
   "source": [
    "print(fo.read(10))"
   ]
  },
  {
   "cell_type": "code",
   "execution_count": null,
   "metadata": {},
   "outputs": [],
   "source": [
    "print(fo.readlines())"
   ]
  },
  {
   "cell_type": "code",
   "execution_count": null,
   "metadata": {},
   "outputs": [],
   "source": [
    "fo.close()"
   ]
  },
  {
   "cell_type": "markdown",
   "metadata": {},
   "source": [
    "- Python **os** module provides methods that help you perform file-processing operations, such as renaming and deleting files."
   ]
  },
  {
   "cell_type": "code",
   "execution_count": null,
   "metadata": {},
   "outputs": [],
   "source": [
    "import os\n",
    "os.rename( \"foo.txt\", \"foo2.txt\" )"
   ]
  },
  {
   "cell_type": "code",
   "execution_count": null,
   "metadata": {},
   "outputs": [],
   "source": [
    "fo = open(\"foo2.txt\", \"r+\")"
   ]
  },
  {
   "cell_type": "code",
   "execution_count": null,
   "metadata": {},
   "outputs": [],
   "source": [
    "for line in fo.readlines():\n",
    "    print(line)"
   ]
  },
  {
   "cell_type": "code",
   "execution_count": null,
   "metadata": {},
   "outputs": [],
   "source": [
    "os.listdir('.')"
   ]
  },
  {
   "cell_type": "markdown",
   "metadata": {},
   "source": [
    "### Exception Handling"
   ]
  },
  {
   "cell_type": "code",
   "execution_count": null,
   "metadata": {},
   "outputs": [],
   "source": [
    "try:\n",
    "   fh = open(\"testfile\", \"r\")\n",
    "   fh.write(\"This is my test file for exception handling!!\")\n",
    "except Exception as e:\n",
    "   print (\"Error: can\\'t find file or read data\", e)"
   ]
  },
  {
   "cell_type": "code",
   "execution_count": null,
   "metadata": {},
   "outputs": [],
   "source": [
    "\n",
    "try:\n",
    "   fh = open(\"testfile\", \"w\")\n",
    "   fh.write(\"This is my test file for exception handling!!\")\n",
    "except IOError:\n",
    "   print (\"Error: can\\'t find file or read data\")\n",
    "else:\n",
    "   print (\"Written content in the file successfully\")\n",
    "   fh.close()\n",
    "finally:\n",
    "   print('This would always be executed.')"
   ]
  },
  {
   "cell_type": "code",
   "execution_count": null,
   "metadata": {},
   "outputs": [],
   "source": [
    "class MyError(Exception):\n",
    "    def __init__(self, message):\n",
    "        self.message = message"
   ]
  },
  {
   "cell_type": "code",
   "execution_count": null,
   "metadata": {},
   "outputs": [],
   "source": [
    "list1 = [1,2,3]\n",
    "try:\n",
    "    print(list1[3])\n",
    "except IndexError:\n",
    "    #pass\n",
    "    raise MyError('Please check list index value')\n",
    "    "
   ]
  },
  {
   "cell_type": "markdown",
   "metadata": {},
   "source": [
    "# Iterators"
   ]
  },
  {
   "cell_type": "code",
   "execution_count": null,
   "metadata": {},
   "outputs": [],
   "source": [
    "for i in range(5):\n",
    "    print(i)"
   ]
  },
  {
   "cell_type": "markdown",
   "metadata": {},
   "source": [
    "- In this example, the range(5) is an iterable object that provide\n",
    "- The built-in function iter takes an iterable object and returns an iterator."
   ]
  },
  {
   "cell_type": "code",
   "execution_count": null,
   "metadata": {},
   "outputs": [],
   "source": [
    "x = iter([1, 2, 3])"
   ]
  },
  {
   "cell_type": "code",
   "execution_count": null,
   "metadata": {},
   "outputs": [],
   "source": [
    "next(x)"
   ]
  },
  {
   "cell_type": "code",
   "execution_count": null,
   "metadata": {},
   "outputs": [],
   "source": [
    "class Fibonacci:\n",
    "\n",
    "    def __init__(self, max=1000000):\n",
    "        self.a, self.b = 0, 1\n",
    "        self.max = max\n",
    "\n",
    "    def __iter__(self):\n",
    "\n",
    "        return self\n",
    "\n",
    "    def next(self):\n",
    "\n",
    "        if self.a > self.max:\n",
    "            raise StopIteration\n",
    "\n",
    "        value_to_be_returned = self.a\n",
    "\n",
    "        self.a, self.b = self.b, self.a + self.b\n",
    "\n",
    "        return value_to_be_returned\n",
    "\n",
    "    def __next__(self):\n",
    "        # This is for python3 compatibility\n",
    "        return self.next()"
   ]
  },
  {
   "cell_type": "code",
   "execution_count": null,
   "metadata": {},
   "outputs": [],
   "source": [
    "fib = Fibonacci(100)"
   ]
  },
  {
   "cell_type": "code",
   "execution_count": null,
   "metadata": {},
   "outputs": [],
   "source": [
    "next(fib)"
   ]
  },
  {
   "cell_type": "markdown",
   "metadata": {},
   "source": [
    "# Generators\n",
    "- Generators simplifies creation of iterators.\n",
    "- A generator is a function that produces a sequence of results instead of a single value.\n",
    "- They are written like regular functions but use the yield statement whenever they want to return data.\n",
    "- Methods like **\\__iter__()** and **\\__next__()** are implemented automatically.\n",
    "- Each time next() is called on it, the generator resumes where it left off.\n",
    "- Local variables and their states are remembered between successive calls."
   ]
  },
  {
   "cell_type": "code",
   "execution_count": null,
   "metadata": {},
   "outputs": [],
   "source": [
    "def fibonacci(max):\n",
    "    a, b = 0, 1\n",
    "    while a < max:\n",
    "        yield a\n",
    "        a, b = b, a+b"
   ]
  },
  {
   "cell_type": "code",
   "execution_count": null,
   "metadata": {},
   "outputs": [],
   "source": [
    "fib_generator = fibonacci(100)"
   ]
  },
  {
   "cell_type": "code",
   "execution_count": null,
   "metadata": {},
   "outputs": [],
   "source": [
    "for fib in fib_generator:\n",
    "    print(fib)"
   ]
  },
  {
   "cell_type": "code",
   "execution_count": null,
   "metadata": {},
   "outputs": [],
   "source": [
    "next(fib_generator)"
   ]
  },
  {
   "cell_type": "markdown",
   "metadata": {},
   "source": [
    "#### Why should we use them?\n",
    "1. Easy to Implement\n",
    "2. Memory Efficient\n",
    "3. Represent Infinite Stream"
   ]
  },
  {
   "cell_type": "markdown",
   "metadata": {},
   "source": [
    "# Decorators\n",
    "- Python has an interesting feature called decorators to add functionality to an existing code.\n",
    "- Functions and methods are called callable as they can be called.\n",
    "- In fact, any object which implements the special method __call__() is termed callable.\n",
    "- So, in the most basic sense, a decorator is a callable that returns a callable.\n",
    "- Basically, a decorator takes in a function, adds some functionality and returns it."
   ]
  },
  {
   "cell_type": "code",
   "execution_count": null,
   "metadata": {},
   "outputs": [],
   "source": [
    "def display_func():\n",
    "    print('display_func called')"
   ]
  },
  {
   "cell_type": "code",
   "execution_count": null,
   "metadata": {},
   "outputs": [],
   "source": [
    "display_func()"
   ]
  },
  {
   "cell_type": "code",
   "execution_count": null,
   "metadata": {},
   "outputs": [],
   "source": [
    "def decorator_func(func):\n",
    "    def wrapper_func():\n",
    "        print('decorator_func called before: %s', func.__name__)\n",
    "        return func()\n",
    "    return wrapper_func"
   ]
  },
  {
   "cell_type": "code",
   "execution_count": null,
   "metadata": {},
   "outputs": [],
   "source": [
    "display_func = decorator_func(display_func)"
   ]
  },
  {
   "cell_type": "code",
   "execution_count": null,
   "metadata": {},
   "outputs": [],
   "source": [
    "display_func()"
   ]
  },
  {
   "cell_type": "code",
   "execution_count": null,
   "metadata": {},
   "outputs": [],
   "source": [
    "#from functools import wraps\n",
    "def decorator_func1(func):\n",
    "    #@wraps(func)\n",
    "    def wrapper_func(*args, **kwargs):\n",
    "        print('decorator_func1 called before: %s'% func.__name__)\n",
    "        return func(*args, **kwargs)\n",
    "    return wrapper_func"
   ]
  },
  {
   "cell_type": "code",
   "execution_count": null,
   "metadata": {},
   "outputs": [],
   "source": [
    "@decorator_func1\n",
    "def display_info(name, age):\n",
    "    print('display_info called:', name, age)"
   ]
  },
  {
   "cell_type": "code",
   "execution_count": null,
   "metadata": {},
   "outputs": [],
   "source": [
    "display_info('rajesh', 34)"
   ]
  },
  {
   "cell_type": "code",
   "execution_count": null,
   "metadata": {},
   "outputs": [],
   "source": [
    "from datetime import datetime\n",
    "def log_time_decorator(func):\n",
    "    def wrapper_func(*args, **kwargs):\n",
    "        t1 = datetime.now()\n",
    "        rval = func(*args, **kwargs)\n",
    "        print('Time taken in function: ', func.__name__, datetime.now() - t1)\n",
    "        return rval\n",
    "    return wrapper_func"
   ]
  },
  {
   "cell_type": "code",
   "execution_count": null,
   "metadata": {},
   "outputs": [],
   "source": [
    "from time import sleep\n",
    "@log_time_decorator\n",
    "@decorator_func1\n",
    "def display_info(name, age):\n",
    "    sleep(10)\n",
    "    print('display_info called:', name, age)"
   ]
  },
  {
   "cell_type": "code",
   "execution_count": null,
   "metadata": {},
   "outputs": [],
   "source": [
    "display_info('rajesh', 34)"
   ]
  },
  {
   "cell_type": "markdown",
   "metadata": {},
   "source": [
    "#### Using wraps from functools\n",
    "The way we have defined decorators so far hasn't taken into account that the attributes\n",
    "- \\__name__ (name of the function),\n",
    "- \\__doc__ (the docstring) and\n",
    "- \\__module__ (The module in which the function is defined)"
   ]
  },
  {
   "cell_type": "code",
   "execution_count": null,
   "metadata": {},
   "outputs": [],
   "source": [
    "def fake_decorator(f):\n",
    "    print('fake_decorator called')"
   ]
  },
  {
   "cell_type": "code",
   "execution_count": null,
   "metadata": {},
   "outputs": [],
   "source": [
    "@fake_decorator\n",
    "def display_info(name, age):\n",
    "    sleep(10)\n",
    "    print('display_info called:', name, age)"
   ]
  },
  {
   "cell_type": "markdown",
   "metadata": {},
   "source": [
    "#### Using a Class as a Decorator\n",
    "- We can write a class decorator by using the **\\__call__** method"
   ]
  },
  {
   "cell_type": "code",
   "execution_count": null,
   "metadata": {},
   "outputs": [],
   "source": [
    "class decorator2:\n",
    "    \n",
    "    def __init__(self, f):\n",
    "        self.f = f\n",
    "        \n",
    "    def __call__(self):\n",
    "        print(\"Decorating\", self.f.__name__)\n",
    "        self.f()"
   ]
  },
  {
   "cell_type": "code",
   "execution_count": null,
   "metadata": {},
   "outputs": [],
   "source": [
    "@decorator2\n",
    "def foo():\n",
    "    print(\"inside foo()\")\n",
    "\n",
    "foo()"
   ]
  },
  {
   "cell_type": "markdown",
   "metadata": {},
   "source": [
    "# Shallow and Deep Copy\n",
    "- Assignment statements in Python do not copy objects\n",
    "- It only creates a new variable that shares the reference of the original object.\n",
    "- For collections that are mutable or contain mutable items, a copy is sometimes needed so one can change one copy without changing the other.\n",
    "- In Python, there are two ways to create copies:\n",
    "  1. Shallow Copy\n",
    "  2. Deep Copy\n",
    "- We use the **copy** module of Python for shallow and deep copy operations.\n",
    "- A shallow copy creates a new object which stores the reference of the original elements."
   ]
  },
  {
   "cell_type": "code",
   "execution_count": null,
   "metadata": {},
   "outputs": [],
   "source": [
    "import copy\n",
    "\n",
    "old_list = [[1, 2, 3], [4, 5, 6], [7, 8, 9]]\n",
    "new_list = copy.copy(old_list)\n",
    "\n",
    "print(\"Old list:\", old_list)\n",
    "print(\"New list:\", new_list)"
   ]
  },
  {
   "cell_type": "code",
   "execution_count": null,
   "metadata": {},
   "outputs": [],
   "source": [
    "old_list.append([4, 4, 4])\n",
    "\n",
    "print(\"Old list:\", old_list)\n",
    "print(\"New list:\", new_list)"
   ]
  },
  {
   "cell_type": "code",
   "execution_count": null,
   "metadata": {},
   "outputs": [],
   "source": [
    "old_list[1][1] = 'AA'\n",
    "\n",
    "print(\"Old list:\", old_list)\n",
    "print(\"New list:\", new_list)"
   ]
  },
  {
   "cell_type": "markdown",
   "metadata": {},
   "source": [
    "- So, a shallow copy doesn't create a copy of nested objects, instead it **just copies the reference of nested objects**.\n",
    "- A **deep copy** creates a new object and recursively adds the copies of nested objects present in the original elements."
   ]
  },
  {
   "cell_type": "code",
   "execution_count": null,
   "metadata": {},
   "outputs": [],
   "source": [
    "import copy\n",
    "\n",
    "old_list = [[1, 1, 1], [2, 2, 2], [3, 3, 3]]\n",
    "new_list = copy.deepcopy(old_list)\n",
    "\n",
    "print(\"Old list:\", old_list)\n",
    "print(\"New list:\", new_list)"
   ]
  },
  {
   "cell_type": "code",
   "execution_count": null,
   "metadata": {},
   "outputs": [],
   "source": [
    "old_list[1][0] = 'BB'\n",
    "\n",
    "print(\"Old list:\", old_list)\n",
    "print(\"New list:\", new_list)"
   ]
  },
  {
   "cell_type": "markdown",
   "metadata": {},
   "source": [
    "# Context Managers"
   ]
  },
  {
   "cell_type": "code",
   "execution_count": null,
   "metadata": {},
   "outputs": [],
   "source": [
    "files = []\n",
    "for x in range(100000):\n",
    "    files.append(open('foo.txt', 'w'))"
   ]
  },
  {
   "cell_type": "markdown",
   "metadata": {},
   "source": [
    "- **If you're on Windows, your computer probably crashed **\n",
    "- Let this be a lesson: **don't leak file descriptors!**\n",
    "- what is a \"file descriptor\" and what does it mean to \"leak\" one?\n",
    "- Well, when you open a file, the operating system assigns an integer to the open file, allowing it to essentially give you a handle to the open file rather than direct access to the underlying file itself.\n",
    "- So how does one \"leak\" a file descriptor. Simply: **by not closing opened files.**"
   ]
  },
  {
   "cell_type": "code",
   "execution_count": null,
   "metadata": {},
   "outputs": [],
   "source": [
    "files = []\n",
    "for x in range(10000):\n",
    "    f = open('foo.txt', 'w')\n",
    "    f.close()\n",
    "    files.append(f)"
   ]
  },
  {
   "cell_type": "markdown",
   "metadata": {},
   "source": [
    "#### A Better Way To Manage Resources\n",
    "- Context managers allow you to allocate and release resources precisely when you want to. \n",
    "-  The most widely used example of context managers is the **with** statement."
   ]
  },
  {
   "cell_type": "code",
   "execution_count": null,
   "metadata": {},
   "outputs": [],
   "source": [
    "files = []\n",
    "for x in range(10000):\n",
    "    with open('some_file', 'w') as opened_file:\n",
    "        opened_file.write('Hola!')"
   ]
  },
  {
   "cell_type": "markdown",
   "metadata": {},
   "source": [
    "- **But where is the code that is actually being called when the variable goes out of scope?**\n",
    "- Let’s talk about what happens under-the-hood.\n",
    "\n",
    " 1. The with statement stores the **\\__exit__** method of the File class.\n",
    " 2. It calls the **\\__enter__** method of the File class.\n",
    " 3. The **\\__enter__** method opens the file and returns it.\n",
    " 4. The opened file handle is passed to opened_file.\n",
    " 5. We write to the file using .write().\n",
    " 6. The with statement calls the stored **\\__exit__** method.\n",
    " 7. The **\\__exit__** method closes the file.\n",
    "- To make things a bit more clear, let's create a totally redundant context manager for working with files:"
   ]
  },
  {
   "cell_type": "code",
   "execution_count": null,
   "metadata": {},
   "outputs": [],
   "source": [
    "class File:\n",
    "    def __init__(self, file_name, method):\n",
    "        self.file_obj = open(file_name, method)\n",
    "    def __enter__(self):\n",
    "        return self.file_obj\n",
    "    def __exit__(self, type, value, traceback):\n",
    "        self.file_obj.close()\n",
    "        \n",
    "files = []\n",
    "for _ in range(10000):\n",
    "    with File('foo.txt', 'w') as infile:\n",
    "        infile.write('foo')\n",
    "        files.append(infile)"
   ]
  },
  {
   "cell_type": "markdown",
   "metadata": {},
   "source": [
    "#### Handling Exceptions\n",
    "- We did not talk about the type, value and traceback arguments of the **\\__exit__** method.\n",
    "- Between the 4th and 6th step, if an exception occurs, Python passes the type, value and traceback of the exception to the **\\__exit__** method.\n",
    "- It allows the **\\__exit__** method to decide how to close the file and if any further steps are required."
   ]
  },
  {
   "cell_type": "markdown",
   "metadata": {},
   "source": [
    "#### Implementing a Context Manager as a Generator\n",
    "- We can also implement Context Managers using decorators and generators.\n",
    "- Python has a contextlib module for this very purpose."
   ]
  },
  {
   "cell_type": "code",
   "execution_count": null,
   "metadata": {},
   "outputs": [],
   "source": [
    "from contextlib import contextmanager\n",
    "\n",
    "@contextmanager\n",
    "def open_file(name):\n",
    "    f = open(name, 'w')\n",
    "    yield f\n",
    "    f.close()"
   ]
  },
  {
   "cell_type": "code",
   "execution_count": null,
   "metadata": {},
   "outputs": [],
   "source": [
    "files = []\n",
    "for _ in range(10000):\n",
    "    with open_file('foo.txt') as infile:\n",
    "        infile.write('foo')\n",
    "        files.append(infile)"
   ]
  },
  {
   "cell_type": "markdown",
   "metadata": {},
   "source": [
    "# Descriptors\n",
    "- In general, a descriptor is an object attribute with “binding behavior”, one whose attribute access has been overridden by methods in the descriptor protocol.\n",
    "- Those methods are **\\__get__(), \\__set__(),** and **\\__delete__().** \n",
    "- If any of those methods are defined for an object, it is said to be a descriptor.\n",
    "- If an object defines both \\__get__() and \\__set__(), it is considered a data descriptor.\n",
    "- Descriptors that only define \\__get__() are called non-data descriptors and are typically used for methods.\n",
    "- Python *descriptor protocol* is simply a way to specify what happens when an attribute is referenced on a model.\n",
    "- Python doesn't have a private variables concept, and descriptor protocol can be considered as a Pythonic way to achieve something similar.\n",
    "- To make a read-only data descriptor, define both \\__get__() and \\__set__() with the \\__set__() raising an AttributeError when called.\n",
    "- Descriptors are the mechanism behind properties, methods, static methods, class methods, and super()."
   ]
  },
  {
   "cell_type": "code",
   "execution_count": null,
   "metadata": {},
   "outputs": [],
   "source": [
    "class RevealAccess:\n",
    "    \"\"\"A data descriptor that sets and returns values\n",
    "       normally and prints a message logging their access.\n",
    "    \"\"\"\n",
    "\n",
    "    def __init__(self, initval=None, name='var'):\n",
    "        self.val = initval\n",
    "        self.name = name\n",
    "\n",
    "    def __get__(self, obj, objtype):\n",
    "        print('Retrieving', self.name)\n",
    "        return self.val\n",
    "\n",
    "    def __set__(self, obj, val):\n",
    "        print('Updating', self.name)\n",
    "        self.val = val"
   ]
  },
  {
   "cell_type": "code",
   "execution_count": null,
   "metadata": {},
   "outputs": [],
   "source": [
    "class MyClass(object):\n",
    "    x = RevealAccess(10, 'var \"x\"')\n",
    "    y = 5\n",
    "m = MyClass()"
   ]
  },
  {
   "cell_type": "code",
   "execution_count": null,
   "metadata": {},
   "outputs": [],
   "source": [
    "m.x"
   ]
  },
  {
   "cell_type": "code",
   "execution_count": null,
   "metadata": {},
   "outputs": [],
   "source": [
    "m.x = 20"
   ]
  },
  {
   "cell_type": "code",
   "execution_count": null,
   "metadata": {},
   "outputs": [],
   "source": [
    "m.x"
   ]
  },
  {
   "cell_type": "code",
   "execution_count": null,
   "metadata": {},
   "outputs": [],
   "source": [
    "m.y"
   ]
  },
  {
   "cell_type": "markdown",
   "metadata": {},
   "source": [
    "# Testing\n",
    "- The **unittest** unit testing framework was originally inspired by JUnit.\n",
    "- It supports test automation, sharing of setup and shutdown code for tests, aggregation of tests into collections, and independence of the tests from the reporting framework.\n",
    "- To achieve all this, *unittest* supports some important concepts:\n",
    "  1. **test fixture**\n",
    "    - A test fixture represents the preparation needed to perform one or more tests, and any associate cleanup actions.   \n",
    "    - This may involve, for example, creating temporary or proxy databases, directories, or starting a server process.\n",
    "  2. **test case**\n",
    "    - A test case is the individual unit of testing.\n",
    "    - It checks for a specific response to a particular set of inputs\n",
    "    - unittest provides a base class, TestCase, which may be used to create new test cases.\n",
    "  3. **test suite**\n",
    "    - A test suite is a collection of test cases, test suites, or both.\n",
    "    - It is used to aggregate tests that should be executed together.\n",
    "  4. **test runner**\n",
    "    - A test runner is a component which orchestrates the execution of tests and provides the outcome to the user.\n",
    "    - The runner may use a graphical interface, a textual interface, or return a special value to indicate the results of executing the tests."
   ]
  },
  {
   "cell_type": "code",
   "execution_count": null,
   "metadata": {},
   "outputs": [],
   "source": [
    "import unittest\n",
    "\n",
    "class TestStringMethods(unittest.TestCase):\n",
    "\n",
    "    def test_upper(self):\n",
    "        self.assertEqual('foo'.upper(), 'FOO')\n",
    "\n",
    "    def test_isupper(self):\n",
    "        self.assertTrue('FOO'.isupper())\n",
    "        self.assertFalse('Foo'.isupper())\n",
    "\n",
    "    def test_split(self):\n",
    "        s = 'hello world'\n",
    "        self.assertEqual(s.split(), ['hello', 'world'])\n",
    "        # check that s.split fails when the separator is not a string\n",
    "        with self.assertRaises(TypeError):\n",
    "            s.split(2)\n",
    "\n",
    "if __name__ == '__main__':\n",
    "    unittest.main()"
   ]
  },
  {
   "cell_type": "code",
   "execution_count": null,
   "metadata": {},
   "outputs": [],
   "source": [
    "!python test_script1.py"
   ]
  },
  {
   "cell_type": "markdown",
   "metadata": {},
   "source": [
    "#### Command-Line Interface\n",
    "- The unittest module can be used from the command line to run tests from modules, classes or even individual test methods"
   ]
  },
  {
   "cell_type": "code",
   "execution_count": null,
   "metadata": {},
   "outputs": [],
   "source": [
    "!python -m unittest"
   ]
  },
  {
   "cell_type": "code",
   "execution_count": null,
   "metadata": {},
   "outputs": [],
   "source": [
    "!python -m unittest test_script1.TestStringMethods.test_upper"
   ]
  },
  {
   "cell_type": "code",
   "execution_count": null,
   "metadata": {},
   "outputs": [],
   "source": [
    "!python -m unittest -v"
   ]
  },
  {
   "cell_type": "markdown",
   "metadata": {},
   "source": [
    "#### Test Discovery\n",
    "- The discover sub-command is used for test discovery"
   ]
  },
  {
   "cell_type": "code",
   "execution_count": null,
   "metadata": {},
   "outputs": [],
   "source": [
    "!python -m unittest discover --start-directory . --pattern \"*_test.py\""
   ]
  },
  {
   "cell_type": "markdown",
   "metadata": {},
   "source": [
    "#### Organizing test code\n",
    "- The basic building blocks of unit testing are test cases \n",
    "- Each test case is a single scenarios that must be set up and checked for correctness.\n",
    "- Tests can be numerous, and their set-up can be repetitive.\n",
    "- Luckily, we can factor out set-up code by implementing a method called **setUp()**, which the testing framework will automatically call for every single test we run\n",
    "- Similarly, we can provide a **tearDown()** method that tidies up after the test method has been run"
   ]
  },
  {
   "cell_type": "code",
   "execution_count": null,
   "metadata": {},
   "outputs": [],
   "source": [
    "import unittest\n",
    "\n",
    "class WidgetTestCase(unittest.TestCase):\n",
    "    def setUp(self):\n",
    "        self.widget = Widget('The widget')\n",
    "\n",
    "    def tearDown(self):\n",
    "        self.widget.dispose()"
   ]
  },
  {
   "cell_type": "markdown",
   "metadata": {},
   "source": [
    "- You can now extend WidgetTestCase for testing all your Widgets.\n",
    "- *setUp()* succeeded, *tearDown()* will be run whether the test method succeeded or not.\n",
    "- Such a working environment for the testing code is called a *test fixture*."
   ]
  },
  {
   "cell_type": "markdown",
   "metadata": {},
   "source": [
    "# Problems\n",
    "1. Define a class with a generator which can iterate the numbers, which are divisible by 7, between a given range 0 and n.\n",
    "2. Write a decorator function to print the execution start and end time of decorated function.\n",
    "3. Wtite test cases for each problem you have solved."
   ]
  }
 ],
 "metadata": {
  "kernelspec": {
   "display_name": "Python 3",
   "language": "python",
   "name": "python3"
  },
  "language_info": {
   "codemirror_mode": {
    "name": "ipython",
    "version": 3
   },
   "file_extension": ".py",
   "mimetype": "text/x-python",
   "name": "python",
   "nbconvert_exporter": "python",
   "pygments_lexer": "ipython3",
   "version": "3.6.5"
  }
 },
 "nbformat": 4,
 "nbformat_minor": 2
}
