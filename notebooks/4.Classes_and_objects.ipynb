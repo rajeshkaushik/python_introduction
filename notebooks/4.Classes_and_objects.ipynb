{
 "cells": [
  {
   "cell_type": "markdown",
   "metadata": {},
   "source": [
    "# Classes\n",
    "- Classes provide a means of bundling data and functionality together.\n",
    "- Creating a new class creates a new type of object, allowing new instances of that type to be made.\n",
    "- Each class instance can have attributes attached to it for maintaining its state.\n",
    "- Class instances can also have methods (defined by its class) for modifying its state.\n",
    "\n",
    "### Overview of OOP Terminology\n",
    "- **Class** − A user-defined prototype for an object that defines a set of attributes that characterize any object of the class.\n",
    "- **Class variable** − A variable that is shared by all instances of a class. \n",
    "- **Data member** − A class variable or instance variable that holds data associated with a class and its objects.\n",
    "- **Function overloading** − The assignment of more than one behavior to a particular function.\n",
    "- **Instance variable** − A variable that is defined inside a method and belongs only to the current instance of a class.\n",
    "- **Inheritance** − The transfer of the characteristics of a class to other classes that are derived from it.\n",
    "- **Instance** − An individual object of a certain class.\n",
    "- **Instantiation** − The creation of an instance of a class.\n",
    "- **Method** − A special kind of function that is defined in a class definition.\n",
    "- **Object** − A unique instance of a data structure that is defined by its class.\n",
    "- **Operator overloading** − The assignment of more than one function to a particular operator."
   ]
  },
  {
   "cell_type": "code",
   "execution_count": null,
   "metadata": {},
   "outputs": [],
   "source": [
    "class Employee:\n",
    "   '''Common base class for all employees'''\n",
    "   emp_count = 0\n",
    "\n",
    "   def __init__(self, name, salary):\n",
    "      self.name = name\n",
    "      self.salary = salary\n",
    "      Employee.emp_count += 1\n",
    "   \n",
    "   def display_count(self):\n",
    "     print (\"Total Employee %d\" % Employee.emp_count)\n",
    "\n",
    "   def display_employee(self):\n",
    "      print (\"Name : \", self.name,  \", Salary: \", self.salary)"
   ]
  },
  {
   "cell_type": "markdown",
   "metadata": {},
   "source": [
    "- The variable emp_count is a class variable whose value is shared among all the instances of a in this class.\n",
    "- The first method **\\__init__()** is a special method, which is called class constructor or initialization method that.\n",
    "- You declare other class methods like normal functions with the exception that the first argument to each method is self."
   ]
  },
  {
   "cell_type": "code",
   "execution_count": null,
   "metadata": {},
   "outputs": [],
   "source": [
    "emp = Employee('Foo', 1000000)"
   ]
  },
  {
   "cell_type": "code",
   "execution_count": null,
   "metadata": {},
   "outputs": [],
   "source": [
    "Employee.emp_count"
   ]
  },
  {
   "cell_type": "code",
   "execution_count": null,
   "metadata": {},
   "outputs": [],
   "source": [
    "emp.emp_count"
   ]
  },
  {
   "cell_type": "code",
   "execution_count": null,
   "metadata": {},
   "outputs": [],
   "source": [
    "Employee.display_count"
   ]
  },
  {
   "cell_type": "code",
   "execution_count": null,
   "metadata": {},
   "outputs": [],
   "source": [
    "emp.display_count"
   ]
  },
  {
   "cell_type": "code",
   "execution_count": null,
   "metadata": {},
   "outputs": [],
   "source": [
    "emp.display_count()"
   ]
  },
  {
   "cell_type": "code",
   "execution_count": null,
   "metadata": {},
   "outputs": [],
   "source": [
    "Employee.display_count()"
   ]
  },
  {
   "cell_type": "markdown",
   "metadata": {},
   "source": [
    "#### Built-In Class Attributes\n",
    "- **\\__dict__** − Dictionary containing the class's namespace.\n",
    "\n",
    "- **\\__doc__** − Class documentation string or none, if undefined.\n",
    "\n",
    "- **\\__name__** − Class name.\n",
    "\n",
    "- **\\__module__** − Module name in which the class is defined. This attribute is \"__main__\" in interactive mode.\n",
    "\n",
    "- **\\__bases__** − A possibly empty tuple containing the base classes, in the order of their occurrence in the base class list."
   ]
  },
  {
   "cell_type": "code",
   "execution_count": null,
   "metadata": {},
   "outputs": [],
   "source": [
    "Employee.__dict__"
   ]
  },
  {
   "cell_type": "code",
   "execution_count": null,
   "metadata": {},
   "outputs": [],
   "source": [
    "Employee.__module__"
   ]
  },
  {
   "cell_type": "code",
   "execution_count": null,
   "metadata": {},
   "outputs": [],
   "source": [
    "Employee.__bases__"
   ]
  },
  {
   "cell_type": "code",
   "execution_count": null,
   "metadata": {},
   "outputs": [],
   "source": [
    "Employee.__doc__"
   ]
  },
  {
   "cell_type": "code",
   "execution_count": null,
   "metadata": {},
   "outputs": [],
   "source": [
    "Employee.__name__"
   ]
  },
  {
   "cell_type": "code",
   "execution_count": null,
   "metadata": {},
   "outputs": [],
   "source": [
    "dir(Employee)"
   ]
  },
  {
   "cell_type": "markdown",
   "metadata": {},
   "source": [
    "**dir([object])** - \n",
    "Without arguments, return the list of names in the current local scope. With an argument, attempt to return a list of valid attributes for that object."
   ]
  },
  {
   "cell_type": "markdown",
   "metadata": {},
   "source": [
    "### Class Inheritance\n",
    "- It refers to defining a new class with little or no modification to an existing class.\n",
    "- The new class is called **derived (or child) class** and the one from which it inherits is called the **base (or parent) class**."
   ]
  },
  {
   "cell_type": "code",
   "execution_count": null,
   "metadata": {},
   "outputs": [],
   "source": [
    "class Polygon:\n",
    "    def __init__(self, no_of_sides):\n",
    "        self.n = no_of_sides\n",
    "        self.sides = [0 for i in range(no_of_sides)]\n",
    "\n",
    "    def inputSides(self):\n",
    "        self.sides = [float(input(\"Enter side \"+str(i+1)+\" : \")) for i in range(self.n)]\n",
    "\n",
    "    def dispSides(self):\n",
    "        for i in range(self.n):\n",
    "            print(\"Side\",i+1,\"is\",self.sides[i])"
   ]
  },
  {
   "cell_type": "code",
   "execution_count": null,
   "metadata": {},
   "outputs": [],
   "source": [
    "class Triangle(Polygon):\n",
    "    def __init__(self):\n",
    "        Polygon.__init__(self,3)\n",
    "\n",
    "    def findArea(self):\n",
    "        a, b, c = self.sides\n",
    "        # calculate the semi-perimeter\n",
    "        s = (a + b + c) / 2\n",
    "        area = (s*(s-a)*(s-b)*(s-c)) ** 0.5\n",
    "        print('The area of the triangle is %0.2f' %area)"
   ]
  },
  {
   "cell_type": "markdown",
   "metadata": {},
   "source": [
    "- Can you see **Method Overriding** here?"
   ]
  },
  {
   "cell_type": "code",
   "execution_count": null,
   "metadata": {},
   "outputs": [],
   "source": [
    "t = Triangle()"
   ]
  },
  {
   "cell_type": "code",
   "execution_count": null,
   "metadata": {},
   "outputs": [],
   "source": [
    "t.inputSides()"
   ]
  },
  {
   "cell_type": "code",
   "execution_count": null,
   "metadata": {},
   "outputs": [],
   "source": [
    "t.dispSides()"
   ]
  },
  {
   "cell_type": "code",
   "execution_count": null,
   "metadata": {},
   "outputs": [],
   "source": [
    "t.findArea()"
   ]
  },
  {
   "cell_type": "markdown",
   "metadata": {},
   "source": [
    "- Two built-in functions **isinstance()** and **issubclass()** are used to check inheritances. "
   ]
  },
  {
   "cell_type": "code",
   "execution_count": null,
   "metadata": {},
   "outputs": [],
   "source": [
    "isinstance(t,Triangle)"
   ]
  },
  {
   "cell_type": "code",
   "execution_count": null,
   "metadata": {},
   "outputs": [],
   "source": [
    "isinstance(t,Polygon)"
   ]
  },
  {
   "cell_type": "code",
   "execution_count": null,
   "metadata": {},
   "outputs": [],
   "source": [
    "isinstance(t,int)"
   ]
  },
  {
   "cell_type": "code",
   "execution_count": null,
   "metadata": {},
   "outputs": [],
   "source": [
    "isinstance(t,object)"
   ]
  },
  {
   "cell_type": "markdown",
   "metadata": {},
   "source": [
    "- Each and every class in Python inherits from the base class object."
   ]
  },
  {
   "cell_type": "code",
   "execution_count": null,
   "metadata": {},
   "outputs": [],
   "source": [
    "issubclass(Polygon,Triangle)"
   ]
  },
  {
   "cell_type": "code",
   "execution_count": null,
   "metadata": {},
   "outputs": [],
   "source": [
    "issubclass(Triangle,Polygon)"
   ]
  },
  {
   "cell_type": "code",
   "execution_count": null,
   "metadata": {},
   "outputs": [],
   "source": [
    "issubclass(bool,int)"
   ]
  },
  {
   "cell_type": "markdown",
   "metadata": {},
   "source": [
    "#### Python Multiple Inheritance\n",
    "- a class can be derived from more than one base classes in Python. This is called multiple inheritance."
   ]
  },
  {
   "cell_type": "code",
   "execution_count": null,
   "metadata": {},
   "outputs": [],
   "source": [
    "class A:\n",
    "    def __init__(self):\n",
    "        print(\"A's constructor called.\")\n",
    "\n",
    "class B(A):\n",
    "    def __init__(self):\n",
    "        print(\"B's constructor called.\")\n",
    "        super().__init__()\n",
    "        \n",
    "class C(A):\n",
    "    def __init__(self):\n",
    "        print(\"C's constructor called.\")\n",
    "        super().__init__()\n",
    "        \n",
    "class D(B,C):\n",
    "    def __init__(self):\n",
    "        print(\"D's constructor called.\")\n",
    "        super().__init__()"
   ]
  },
  {
   "cell_type": "code",
   "execution_count": null,
   "metadata": {},
   "outputs": [],
   "source": [
    "d = D()"
   ]
  },
  {
   "cell_type": "code",
   "execution_count": null,
   "metadata": {},
   "outputs": [],
   "source": [
    "print(D.mro())"
   ]
  },
  {
   "cell_type": "markdown",
   "metadata": {},
   "source": [
    "- This order is also called linearization of MultiDerived class and the set of rules used to find this order is called **Method Resolution Order (MRO)**.\n",
    "- MRO ensures that a class always appears before its parents and in case of multiple parents, the order is same as tuple of base classes.\n",
    "- MRO is based upon **C-Linearization Algorithm**. For more details you may visit https://www.python.org/download/releases/2.3/mro/ "
   ]
  },
  {
   "cell_type": "markdown",
   "metadata": {},
   "source": [
    "### Overloading Operators\n",
    "- Python operators work for built-in classes\n",
    "- Same operator behaves differently with different types\n",
    "- This feature in Python, that allows same operator to have different meaning according to the context is called **operator overloading**\n",
    "- Class functions that begins with double underscore \\__ are called **special functions** in Python.\n",
    "- To overload the + sign, we will need to implement **\\__add__()** function in the class."
   ]
  },
  {
   "cell_type": "code",
   "execution_count": null,
   "metadata": {},
   "outputs": [],
   "source": [
    "class Point:\n",
    "    def __init__(self, x = 0, y = 0):\n",
    "        self.x = x\n",
    "        self.y = y"
   ]
  },
  {
   "cell_type": "code",
   "execution_count": null,
   "metadata": {},
   "outputs": [],
   "source": [
    "p = Point()\n",
    "print(p)"
   ]
  },
  {
   "cell_type": "markdown",
   "metadata": {},
   "source": [
    "- We define **\\__str__()** method in our class, we can control how it gets printed."
   ]
  },
  {
   "cell_type": "code",
   "execution_count": null,
   "metadata": {},
   "outputs": [],
   "source": [
    "class Point:\n",
    "    def __init__(self, x = 0, y = 0):\n",
    "        self.x = x\n",
    "        self.y = y\n",
    "        \n",
    "    def __str__(self):\n",
    "        return \"({0},{1})\".format(self.x,self.y)"
   ]
  },
  {
   "cell_type": "code",
   "execution_count": null,
   "metadata": {},
   "outputs": [],
   "source": [
    "p = Point()\n",
    "print(p)"
   ]
  },
  {
   "cell_type": "code",
   "execution_count": null,
   "metadata": {},
   "outputs": [],
   "source": [
    "p1 = Point(1,1)\n",
    "p2 = Point(4,4)\n",
    "print(p1 + p2)"
   ]
  },
  {
   "cell_type": "code",
   "execution_count": null,
   "metadata": {},
   "outputs": [],
   "source": [
    "class Point:\n",
    "    def __init__(self, x = 0, y = 0):\n",
    "        self.x = x\n",
    "        self.y = y\n",
    "        \n",
    "    def __str__(self):\n",
    "        return \"({0},{1})\".format(self.x,self.y)\n",
    "\n",
    "    def __add__(self,other):\n",
    "        x = self.x + other.x\n",
    "        y = self.y + other.y\n",
    "        return Point(x,y)  \n",
    "\n",
    "    def __lt__(self,other):\n",
    "        self_mag = (self.x ** 2) + (self.y ** 2)\n",
    "        other_mag = (other.x ** 2) + (other.y ** 2)\n",
    "        return self_mag < other_mag"
   ]
  },
  {
   "cell_type": "code",
   "execution_count": null,
   "metadata": {},
   "outputs": [],
   "source": [
    "p1 = Point(1,1)\n",
    "p2 = Point(4,4)\n",
    "print(p1 + p2)"
   ]
  },
  {
   "cell_type": "code",
   "execution_count": null,
   "metadata": {},
   "outputs": [],
   "source": [
    "p1 < p2"
   ]
  },
  {
   "cell_type": "markdown",
   "metadata": {},
   "source": [
    "### Method Overloading\n",
    "- **You can't, never need to and don't really want to**.\n",
    "- And in Python, you do it all in one function"
   ]
  },
  {
   "cell_type": "code",
   "execution_count": null,
   "metadata": {},
   "outputs": [],
   "source": [
    "class Human:\n",
    " \n",
    "    def sayHello(self, name=None):\n",
    " \n",
    "        if name is not None:\n",
    "            print ('Hello ' + name)\n",
    "        else:\n",
    "            print ('Hello ')"
   ]
  },
  {
   "cell_type": "code",
   "execution_count": null,
   "metadata": {},
   "outputs": [],
   "source": [
    "obj = Human()\n",
    "\n",
    "obj.sayHello()\n",
    " \n",
    "obj.sayHello('Guido')"
   ]
  },
  {
   "cell_type": "markdown",
   "metadata": {},
   "source": [
    "### Data Hiding\n",
    "- You need to name attributes with a double underscore prefix, and those attributes then will not be directly visible to outsiders."
   ]
  },
  {
   "cell_type": "code",
   "execution_count": null,
   "metadata": {},
   "outputs": [],
   "source": [
    "class JustCounter:\n",
    "   __secretCount = 0\n",
    "  \n",
    "   def count(self):\n",
    "      self.__secretCount += 1\n",
    "      print (self.__secretCount)\n",
    "\n",
    "counter = JustCounter()\n",
    "counter.count()\n",
    "counter.count()\n",
    "print (counter.__secretCount)"
   ]
  },
  {
   "cell_type": "markdown",
   "metadata": {},
   "source": [
    "- Python protects those members by internally changing the name to include the class name.\n",
    "- You can access such attributes as object._className__attrName."
   ]
  },
  {
   "cell_type": "code",
   "execution_count": null,
   "metadata": {},
   "outputs": [],
   "source": [
    "print (counter._JustCounter__secretCount)"
   ]
  },
  {
   "cell_type": "markdown",
   "metadata": {},
   "source": [
    "### Property\n",
    "- Python has a great concept called property which makes the life of an object oriented programmer much simpler."
   ]
  },
  {
   "cell_type": "code",
   "execution_count": null,
   "metadata": {},
   "outputs": [],
   "source": [
    "class Celsius:\n",
    "    def __init__(self, temperature = 0):\n",
    "        self.temperature = temperature\n",
    "\n",
    "    def to_fahrenheit(self):\n",
    "        return (self.temperature * 1.8) + 32"
   ]
  },
  {
   "cell_type": "code",
   "execution_count": null,
   "metadata": {},
   "outputs": [],
   "source": [
    "man = Celsius()\n",
    "man.temperature = 37"
   ]
  },
  {
   "cell_type": "code",
   "execution_count": null,
   "metadata": {},
   "outputs": [],
   "source": [
    "print(man.temperature)\n",
    "print(man.to_fahrenheit())"
   ]
  },
  {
   "cell_type": "markdown",
   "metadata": {},
   "source": [
    "- One day, a trusted client came to us and suggested that temperatures cannot go below -273 degree Celsius"
   ]
  },
  {
   "cell_type": "code",
   "execution_count": null,
   "metadata": {},
   "outputs": [],
   "source": [
    "class Celsius:\n",
    "    def __init__(self, temperature = 0):\n",
    "        self.set_temperature(temperature)\n",
    "\n",
    "    def to_fahrenheit(self):\n",
    "        return (self.get_temperature() * 1.8) + 32\n",
    "\n",
    "    # new update\n",
    "    def get_temperature(self):\n",
    "        return self._temperature\n",
    "\n",
    "    def set_temperature(self, value):\n",
    "        if value < -273:\n",
    "            raise ValueError(\"Temperature below -273 is not possible\")\n",
    "        self._temperature = value"
   ]
  },
  {
   "cell_type": "code",
   "execution_count": null,
   "metadata": {},
   "outputs": [],
   "source": [
    "c = Celsius(37)\n",
    "c.get_temperature()"
   ]
  },
  {
   "cell_type": "code",
   "execution_count": null,
   "metadata": {},
   "outputs": [],
   "source": [
    " c = Celsius(-277)"
   ]
  },
  {
   "cell_type": "code",
   "execution_count": null,
   "metadata": {},
   "outputs": [],
   "source": [
    "c.set_temperature(-300)"
   ]
  },
  {
   "cell_type": "markdown",
   "metadata": {},
   "source": [
    "- Please note that private variables don't exist in Python. There are simply norms to be followed."
   ]
  },
  {
   "cell_type": "code",
   "execution_count": null,
   "metadata": {},
   "outputs": [],
   "source": [
    "c._temperature = -300  # But we are not solving this here :)\n",
    "c.get_temperature()"
   ]
  },
  {
   "cell_type": "code",
   "execution_count": null,
   "metadata": {},
   "outputs": [],
   "source": [
    "c.temperature = 100\n",
    "c.get_temperature()"
   ]
  },
  {
   "cell_type": "markdown",
   "metadata": {},
   "source": [
    "- The big problem with the above update is that, all the clients who implemented our previous class in their program have to modify their code\n",
    "- The pythonic way to deal with the above problem is to use property."
   ]
  },
  {
   "cell_type": "code",
   "execution_count": null,
   "metadata": {},
   "outputs": [],
   "source": [
    "class Celsius:\n",
    "    def __init__(self, temperature = 0):\n",
    "        self.temperature = temperature\n",
    "\n",
    "    def to_fahrenheit(self):\n",
    "        return (self.temperature * 1.8) + 32\n",
    "\n",
    "    def get_temperature(self):\n",
    "        print(\"Getting value\")\n",
    "        return self._temperature\n",
    "\n",
    "    def set_temperature(self, value):\n",
    "        if value < -273:\n",
    "            raise ValueError(\"Temperature below -273 is not possible\")\n",
    "        print(\"Setting value\")\n",
    "        self._temperature = value\n",
    "\n",
    "    temperature = property(get_temperature,set_temperature)"
   ]
  },
  {
   "cell_type": "code",
   "execution_count": null,
   "metadata": {},
   "outputs": [],
   "source": [
    "c = Celsius(37)\n",
    "c.temperature"
   ]
  },
  {
   "cell_type": "code",
   "execution_count": null,
   "metadata": {},
   "outputs": [],
   "source": [
    "c.temperature = 100\n",
    "c.temperature"
   ]
  },
  {
   "cell_type": "code",
   "execution_count": null,
   "metadata": {},
   "outputs": [],
   "source": [
    "class Celsius:\n",
    "    def __init__(self, temperature = 0):\n",
    "        self._temperature = temperature\n",
    "\n",
    "    def to_fahrenheit(self):\n",
    "        return (self.temperature * 1.8) + 32\n",
    "\n",
    "    @property\n",
    "    def temperature(self):\n",
    "        print(\"Getting value\")\n",
    "        return self._temperature\n",
    "\n",
    "    @temperature.setter\n",
    "    def temperature(self, value):\n",
    "        if value < -273:\n",
    "            raise ValueError(\"Temperature below -273 is not possible\")\n",
    "        print(\"Setting value\")\n",
    "        self._temperature = value"
   ]
  },
  {
   "cell_type": "code",
   "execution_count": null,
   "metadata": {},
   "outputs": [],
   "source": [
    "c = Celsius(37)\n",
    "c.temperature"
   ]
  },
  {
   "cell_type": "markdown",
   "metadata": {},
   "source": [
    "###  Abstract Classes\n",
    "- n Python, it is often useful to create an abstract class to serve as a “skeleton” for a subclass. "
   ]
  },
  {
   "cell_type": "code",
   "execution_count": null,
   "metadata": {},
   "outputs": [],
   "source": [
    "from abc import ABC, abstractmethod\n",
    " \n",
    " \n",
    "class AbstractOperation(ABC):\n",
    " \n",
    "    def __init__(self, operand_a, operand_b):\n",
    "        self.operand_a = operand_a\n",
    "        self.operand_b = operand_b\n",
    "        super(AbstractOperation, self).__init__()\n",
    "    \n",
    "    @abstractmethod\n",
    "    def execute(self):\n",
    "        pass"
   ]
  },
  {
   "cell_type": "code",
   "execution_count": null,
   "metadata": {},
   "outputs": [],
   "source": [
    "a = AbstractOperation(1, 2)"
   ]
  },
  {
   "cell_type": "code",
   "execution_count": null,
   "metadata": {},
   "outputs": [],
   "source": [
    "class ConcreteOperation(AbstractOperation):\n",
    "    pass"
   ]
  },
  {
   "cell_type": "code",
   "execution_count": null,
   "metadata": {},
   "outputs": [],
   "source": [
    " c = ConcreteOperation(1, 2)"
   ]
  },
  {
   "cell_type": "code",
   "execution_count": null,
   "metadata": {},
   "outputs": [],
   "source": [
    "class AddOperation(AbstractOperation):\n",
    "    def execute(self):\n",
    "        return self.operand_a + self.operand_b\n",
    " \n",
    " \n",
    "class SubtractOperation(AbstractOperation):\n",
    "    def execute(self):\n",
    "        return self.operand_a - self.operand_b"
   ]
  },
  {
   "cell_type": "code",
   "execution_count": null,
   "metadata": {},
   "outputs": [],
   "source": [
    "operation = AddOperation(1, 2)\n",
    "operation.execute()"
   ]
  },
  {
   "cell_type": "code",
   "execution_count": null,
   "metadata": {},
   "outputs": [],
   "source": [
    "operation = SubtractOperation(8, 2)\n",
    "operation.execute()"
   ]
  },
  {
   "cell_type": "code",
   "execution_count": null,
   "metadata": {},
   "outputs": [],
   "source": [
    "'Python Program to Create a Class and Compute the Area and the Perimeter of the Circle'.lower()"
   ]
  },
  {
   "cell_type": "markdown",
   "metadata": {},
   "source": [
    "## Problems\n",
    "1. Write a Python class to find validity of a string of parentheses, '(', ')', '{', '}', '[' and ']'.\n",
    "2. Write a Python program to create a Class which performs basic calculator operations.\n",
    "3. Write a python program to create a class and compute the area and the perimeter of the circle"
   ]
  }
 ],
 "metadata": {
  "kernelspec": {
   "display_name": "Python 3",
   "language": "python",
   "name": "python3"
  },
  "language_info": {
   "codemirror_mode": {
    "name": "ipython",
    "version": 3
   },
   "file_extension": ".py",
   "mimetype": "text/x-python",
   "name": "python",
   "nbconvert_exporter": "python",
   "pygments_lexer": "ipython3",
   "version": "3.6.5"
  }
 },
 "nbformat": 4,
 "nbformat_minor": 2
}
